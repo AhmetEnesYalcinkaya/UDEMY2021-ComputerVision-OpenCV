{
 "cells": [
  {
   "cell_type": "markdown",
   "metadata": {},
   "source": [
    "### OpenCV Webcam Kullanarak Çizim İşlemleri Gerçekleştirme Bölüm Sonu Ödevi"
   ]
  },
  {
   "cell_type": "markdown",
   "metadata": {},
   "source": [
    "---"
   ]
  },
  {
   "cell_type": "markdown",
   "metadata": {},
   "source": [
    "**Görev :** OpenCV kütüphanesini kullanarak, webcam üzerinden çekeceğimiz anlık video kaydı üzerinde çizim işlemi gerçekleştirilmesi.\n",
    "\n",
    "**Aşağıdaki ipuclarını kullanınız !!**\n",
    "\n",
    "* Mouse callback fonksiyonunun çağıracağı draw_circle fonksiyonunu oluşturunuz.\n",
    "* İki adet event oluşturunuz.cv2.EVENT_LBUTTONDOWN ve cv2.EVENT_LBUTTONUP\n",
    "* Boolen formatında mouse tıklama olayını tutan bir değişken tanımlayınız.\n",
    "* Çizeceğimiz dairenin ortasını tutacak tuple kullanınız.\n",
    "* Ardından x,y koordinatlarına göre daireyi çizdiriniz."
   ]
  },
  {
   "cell_type": "code",
   "execution_count": 9,
   "metadata": {},
   "outputs": [],
   "source": [
    "import cv2\n",
    "\n",
    "def draw_circle(event,x,y,flags,param):\n",
    "\n",
    "    global center,clicked\n",
    "\n",
    "    # Dairenin merkezinin belirlenmesi\n",
    "    \n",
    "    \n",
    "    # Boolen değişkeni ile mouse olayını takip et\n",
    "   \n",
    "\n",
    "        \n",
    "# Daha çizim işlemi yapılmadı\n",
    "center = (0,0)\n",
    "clicked = False\n",
    "\n",
    "\n",
    "# webcam bağlan\n",
    "\n",
    "\n",
    "# Ekranın isminin belirlenmesi\n",
    "\n",
    "\n",
    "# Mouse tıklanma olayına göre draw_circle fonksiyonunun çağırılması\n",
    "\n",
    "\n",
    "\n",
    "while True:\n",
    "    # frame okuma işlemi\n",
    " \n",
    "\n",
    "    # Eğer click işlemi gerçekleşti ise\n",
    "   \n",
    "        # Frame'e daire çizilmesi\n",
    "        \n",
    "        \n",
    "    # Framelerin ekrana basılması\n",
    "    \n",
    "\n",
    "    #Çıkış işlemlerinin kontrolü\n",
    "   \n",
    "\n",
    "# Her işlem tamamlandıysa pencereleri kapatınız.\n"
   ]
  }
 ],
 "metadata": {
  "kernelspec": {
   "display_name": "Python 3",
   "language": "python",
   "name": "python3"
  },
  "language_info": {
   "codemirror_mode": {
    "name": "ipython",
    "version": 3
   },
   "file_extension": ".py",
   "mimetype": "text/x-python",
   "name": "python",
   "nbconvert_exporter": "python",
   "pygments_lexer": "ipython3",
   "version": "3.6.6"
  }
 },
 "nbformat": 4,
 "nbformat_minor": 2
}
