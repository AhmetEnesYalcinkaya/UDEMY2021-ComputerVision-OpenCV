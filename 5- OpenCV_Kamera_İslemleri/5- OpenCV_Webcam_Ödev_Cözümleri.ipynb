{
 "cells": [
  {
   "cell_type": "markdown",
   "metadata": {},
   "source": [
    "### OpenCV Webcam Kullanarak Çizim İşlemleri Gerçekleştirme Bölüm Sonu Ödevi\n"
   ]
  },
  {
   "cell_type": "markdown",
   "metadata": {},
   "source": [
    "---"
   ]
  },
  {
   "cell_type": "markdown",
   "metadata": {},
   "source": [
    "**Görev :** OpenCV kütüphanesini kullanarak, webcam üzerinden çekeceğimiz anlık video kaydı üzerinde çizim işlemi gerçekleştirilmesi.\n",
    "\n",
    "**Aşağıdaki ipuclarını kullanınız !!**\n",
    "\n",
    "* Mouse callback fonksiyonunun çağıracağı draw_circle fonksiyonunu oluşturunuz.\n",
    "* İki adet event oluşturunuz.cv2.EVENT_LBUTTONDOWN ve cv2.EVENT_LBUTTONUP\n",
    "* Boolen formatında mouse tıklama olayını tutan bir değişken tanımlayınız.\n",
    "* Çizeceğimiz dairenin ortasını tutacak tuple kullanınız.\n",
    "* Ardından x,y koordinatlarına göre daireyi çizdiriniz."
   ]
  },
  {
   "cell_type": "code",
   "execution_count": 1,
   "metadata": {},
   "outputs": [],
   "source": [
    "# Create a function based on a CV2 Event (Left button click)\n",
    "import cv2\n",
    "# mouse callback function\n",
    "def draw_circle(event,x,y,flags,param):\n",
    "    \n",
    "    global center,clicked\n",
    "\n",
    "     # Dairenin merkezinin belirlenmesi\n",
    "    if event == cv2.EVENT_LBUTTONDOWN:\n",
    "        center = (x, y)\n",
    "        clicked = False\n",
    "    \n",
    "    # Mouse tıklanma olayına göre draw_circle fonksiyonunun çağırılması\n",
    "    if event == cv2.EVENT_LBUTTONUP:\n",
    "        clicked = True\n",
    "\n",
    "        \n",
    "# Daha çizim işlemi yapılmadı\n",
    "center = (0,0)\n",
    "clicked = False\n",
    "\n",
    "\n",
    "# webcam bağlan\n",
    "cap = cv2.VideoCapture(0) \n",
    "\n",
    "# Ekranın isminin belirlenmesi\n",
    "cv2.namedWindow('Test')\n",
    "\n",
    "# Bind draw_rectangle function to mouse cliks\n",
    "cv2.setMouseCallback('Test', draw_circle) \n",
    "\n",
    "\n",
    "while True:\n",
    "    # frame okuma işlemi\n",
    "    ret, frame = cap.read()\n",
    "\n",
    "    # Eğer click işlemi gerçekleşti ise\n",
    "    if clicked==True:\n",
    "        # Frame'e daire çizilmesi\n",
    "        cv2.circle(frame, center=center, radius=50, color=(255,0,0), thickness=5)\n",
    "        \n",
    "     # Framelerin ekrana basılması\n",
    "    cv2.imshow('Test', frame)\n",
    "\n",
    "    # Çıkış işlemlerinin kontrolü\n",
    "    if cv2.waitKey(1) & 0xFF == ord('q'):\n",
    "        break\n",
    "\n",
    "# Her işlem tamamlandıysa pencereleri kapatınız.\n",
    "cap.release()\n",
    "cv2.destroyAllWindows()"
   ]
  },
  {
   "cell_type": "code",
   "execution_count": null,
   "metadata": {},
   "outputs": [],
   "source": []
  }
 ],
 "metadata": {
  "kernelspec": {
   "display_name": "Python 3",
   "language": "python",
   "name": "python3"
  },
  "language_info": {
   "codemirror_mode": {
    "name": "ipython",
    "version": 3
   },
   "file_extension": ".py",
   "mimetype": "text/x-python",
   "name": "python",
   "nbconvert_exporter": "python",
   "pygments_lexer": "ipython3",
   "version": "3.6.6"
  }
 },
 "nbformat": 4,
 "nbformat_minor": 4
}
