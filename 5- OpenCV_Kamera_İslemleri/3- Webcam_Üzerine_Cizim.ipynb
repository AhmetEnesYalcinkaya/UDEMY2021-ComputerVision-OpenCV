{
 "cells": [
  {
   "cell_type": "markdown",
   "metadata": {},
   "source": [
    "### Webcam Üzerinde Çizim İşlemleri"
   ]
  },
  {
   "cell_type": "markdown",
   "metadata": {},
   "source": [
    "---"
   ]
  },
  {
   "cell_type": "markdown",
   "metadata": {},
   "source": [
    "**Object Detection** yada **Facial Recognition** işlemleri sırasında birçok çizim işlemi gerçekleştirilmektedir. Bu bölümde ise webcam üzerinden çektiğimiz görüntü üzerinde çizim işlemleri gerçekleştirmiş olacağız."
   ]
  },
  {
   "cell_type": "code",
   "execution_count": 1,
   "metadata": {},
   "outputs": [],
   "source": [
    "import cv2\n",
    "\n",
    "cap = cv2.VideoCapture(0)\n",
    "\n",
    "width = int(cap.get(cv2.CAP_PROP_FRAME_WIDTH))\n",
    "height = int(cap.get(cv2.CAP_PROP_FRAME_HEIGHT))\n",
    "\n",
    "\n",
    "# Dikdörtgenin koordinatları\n",
    "x = width//2\n",
    "y = height//2\n",
    "\n",
    "# Yükseklik ve genişlik\n",
    "w = width//4\n",
    "h = height//4\n",
    "\n",
    "while True:\n",
    "    # Frame'lerin okunması\n",
    "    ret, frame = cap.read()\n",
    "\n",
    "    # Frame üzerine dikdörtgen çizilmesi\n",
    "    cv2.rectangle(frame, (x, y), (x+w, y+h), color=(0,0,255),thickness= 4)\n",
    "\n",
    "    # Frame'lerin ekrana basılması\n",
    "    cv2.imshow('frame', frame)\n",
    "\n",
    "    if cv2.waitKey(1) & 0xFF == ord('q'):\n",
    "        break\n",
    "\n",
    "cap.release()\n",
    "cv2.destroyAllWindows()"
   ]
  },
  {
   "cell_type": "markdown",
   "metadata": {},
   "source": [
    "### İnteraktif Olarak Webcam Üzerine Şekil Çizilmesi"
   ]
  },
  {
   "cell_type": "markdown",
   "metadata": {},
   "source": [
    "---"
   ]
  },
  {
   "cell_type": "code",
   "execution_count": 2,
   "metadata": {},
   "outputs": [],
   "source": [
    "import cv2\n",
    "\n",
    "def kare_ciz(event,x,y,flags,param):\n",
    "\n",
    "    global pt1,pt2,topLeft_clicked,botRight_clicked\n",
    "\n",
    "    # mouse tıklama işlemi gerçekleşti ise\n",
    "    if event == cv2.EVENT_LBUTTONDOWN:\n",
    "        \n",
    "        # Reset dikdörtgen\n",
    "        if topLeft_clicked == True and botRight_clicked == True:\n",
    "            topLeft_clicked = False\n",
    "            botRight_clicked = False\n",
    "            pt1 = (0,0)\n",
    "            pt2 = (0,0)\n",
    "\n",
    "        if topLeft_clicked == False:\n",
    "            pt1 = (x,y)\n",
    "            topLeft_clicked = True\n",
    "            \n",
    "        elif botRight_clicked == False:\n",
    "            pt2 = (x,y)\n",
    "            botRight_clicked = True\n",
    "\n",
    "        \n",
    "# Değişkenler\n",
    "\n",
    "pt1 = (0,0)\n",
    "pt2 = (0,0)\n",
    "topLeft_clicked = False\n",
    "botRight_clicked = False\n",
    "\n",
    "cap = cv2.VideoCapture(0) \n",
    "\n",
    "cv2.namedWindow('Test')\n",
    "\n",
    "cv2.setMouseCallback('Test', kare_ciz) \n",
    "\n",
    "while True:\n",
    "    ret, frame = cap.read()\n",
    "\n",
    "    if topLeft_clicked:\n",
    "        cv2.circle(frame, center=pt1, radius=5, color=(0,0,255), thickness=-1)\n",
    "        \n",
    "    if topLeft_clicked and botRight_clicked:\n",
    "        cv2.rectangle(frame, pt1, pt2, (0, 0, 255), 2)\n",
    "        \n",
    "    cv2.imshow('Test', frame)\n",
    "\n",
    "   \n",
    "    if cv2.waitKey(1) & 0xFF == ord('q'):\n",
    "        break\n",
    "\n",
    "cap.release()\n",
    "cv2.destroyAllWindows()"
   ]
  }
 ],
 "metadata": {
  "kernelspec": {
   "display_name": "Python 3",
   "language": "python",
   "name": "python3"
  },
  "language_info": {
   "codemirror_mode": {
    "name": "ipython",
    "version": 3
   },
   "file_extension": ".py",
   "mimetype": "text/x-python",
   "name": "python",
   "nbconvert_exporter": "python",
   "pygments_lexer": "ipython3",
   "version": "3.6.6"
  }
 },
 "nbformat": 4,
 "nbformat_minor": 2
}
