{
 "cells": [
  {
   "cell_type": "markdown",
   "metadata": {},
   "source": [
    "## OpenCV ile Mouse Kullanarak Resim Üzerine Şekil Çizilmesi"
   ]
  },
  {
   "cell_type": "markdown",
   "metadata": {},
   "source": [
    "---"
   ]
  },
  {
   "cell_type": "markdown",
   "metadata": {},
   "source": [
    "### Bu bölümdeki amacımız mouse dan alacağımız click işlemleri ile resmimiz üzerinde daha önceki bölümlerde öğrendiğimiz gibi daire çizdireceğiz."
   ]
  },
  {
   "cell_type": "code",
   "execution_count": 1,
   "metadata": {},
   "outputs": [],
   "source": [
    "import cv2\n",
    "import numpy as np\n",
    "\n",
    "\n",
    "###############\n",
    "###FONKSİYON###\n",
    "###############\n",
    "\n",
    "def daire_ciz(event,x,y,flags,param):\n",
    "    \n",
    "    if event == cv2.EVENT_LBUTTONDOWN: #Eğer mouse sol click olayı gerçekleşti ise;\n",
    "        cv2.circle(img,(x,y),100,(0,255,0),-1)\n",
    "    elif event == cv2.EVENT_RBUTTONDOWN:  #Eğer mouse sağ click olayı gerçekleşti ise;\n",
    "        cv2.circle(img,(x,y),100,(255,0,0),-1)\n",
    "\n",
    "cv2.namedWindow(winname='cv_course')\n",
    "\n",
    "cv2.setMouseCallback('cv_course',daire_ciz)\n",
    "\n",
    "\n",
    "############################################\n",
    "###OPENCV İLE RESMİMİZİN EKRANA BASILMASI###\n",
    "############################################\n",
    "\n",
    "img = np.zeros((512,512,3))\n",
    "\n",
    "while True:\n",
    "    \n",
    "    cv2.imshow('cv_course',img)\n",
    "    \n",
    "    if cv2.waitKey(20) & 0xFF == 27:\n",
    "        break\n",
    "\n",
    "cv2.destroyAllWindows()"
   ]
  },
  {
   "cell_type": "markdown",
   "metadata": {},
   "source": [
    "*Daire çiz fonksiyonumuzun içindeki event değeri mouse'muzdan gelen işlemdir. Örneğin mouse sağ tıklama eventi gibi. x,y koordinatlarınıda yine **setMouseCallback()** fonksiyonunundan almaktayız.*\n"
   ]
  }
 ],
 "metadata": {
  "kernelspec": {
   "display_name": "Python 3",
   "language": "python",
   "name": "python3"
  },
  "language_info": {
   "codemirror_mode": {
    "name": "ipython",
    "version": 3
   },
   "file_extension": ".py",
   "mimetype": "text/x-python",
   "name": "python",
   "nbconvert_exporter": "python",
   "pygments_lexer": "ipython3",
   "version": "3.6.6"
  }
 },
 "nbformat": 4,
 "nbformat_minor": 2
}
