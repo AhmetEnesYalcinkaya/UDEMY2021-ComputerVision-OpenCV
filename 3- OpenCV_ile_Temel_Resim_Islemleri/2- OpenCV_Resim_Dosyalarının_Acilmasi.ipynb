{
 "cells": [
  {
   "cell_type": "markdown",
   "metadata": {},
   "source": [
    "## OpenCV ile Resim Dosyalarının Açılma İşlemi"
   ]
  },
  {
   "cell_type": "markdown",
   "metadata": {},
   "source": [
    "---"
   ]
  },
  {
   "cell_type": "markdown",
   "metadata": {},
   "source": [
    "### Bu bölümde jupyter lab dışında fotoğrafımızı ekrana bastırmayı göreceğiz. Bu işlemi ilk olarak aşağıdaki kodu çalıştırarak jupyter içinde gerçekleştiriyoruz. Aşağıdaki kodu çalıştırdığınızda jupyterinizden bağımsız aşağıda bir dosyanın çalıştığını göreceksiniz. "
   ]
  },
  {
   "cell_type": "markdown",
   "metadata": {},
   "source": [
    "*Burda dikkat edilmesi nokta fotoğrafınızı ekrana bastırdıktan sonra çalıştırdığınız kernel hata verecektir bir başka kod çalıştırmayı denediğinizde.Bunun sebebi kernelin bu işlem sırasında zarar görmesidir. Bunun çözümü ise **Kernel->Restart Kernel** işlemini gerçekleştirmektir.*"
   ]
  },
  {
   "cell_type": "code",
   "execution_count": null,
   "metadata": {},
   "outputs": [],
   "source": [
    "import cv2\n",
    "\n",
    "img = cv2.imread('kopek.jpg')\n",
    "\n",
    "cv2.imshow('kopek resmi',img)\n",
    "\n",
    "cv2.waitKey()"
   ]
  },
  {
   "cell_type": "markdown",
   "metadata": {},
   "source": [
    "*Şimdi kendimizin oluşturacağı bir .py dosyasında aynı işlemi tekrarlayacağız. Bunun için **open_image_file.py** dosyasını oluşturdum ve bu işlemi orada gerçekleştirdim.*"
   ]
  },
  {
   "cell_type": "code",
   "execution_count": 1,
   "metadata": {},
   "outputs": [
    {
     "name": "stdout",
     "output_type": "stream",
     "text": [
      "yeni\n"
     ]
    }
   ],
   "source": [
    "print(\"yeni\")"
   ]
  },
  {
   "cell_type": "code",
   "execution_count": null,
   "metadata": {},
   "outputs": [],
   "source": []
  },
  {
   "cell_type": "code",
   "execution_count": null,
   "metadata": {},
   "outputs": [],
   "source": []
  },
  {
   "cell_type": "code",
   "execution_count": null,
   "metadata": {},
   "outputs": [],
   "source": []
  },
  {
   "cell_type": "code",
   "execution_count": null,
   "metadata": {},
   "outputs": [],
   "source": []
  },
  {
   "cell_type": "code",
   "execution_count": null,
   "metadata": {},
   "outputs": [],
   "source": []
  }
 ],
 "metadata": {
  "kernelspec": {
   "display_name": "Python 3",
   "language": "python",
   "name": "python3"
  },
  "language_info": {
   "codemirror_mode": {
    "name": "ipython",
    "version": 3
   },
   "file_extension": ".py",
   "mimetype": "text/x-python",
   "name": "python",
   "nbconvert_exporter": "python",
   "pygments_lexer": "ipython3",
   "version": "3.6.6"
  }
 },
 "nbformat": 4,
 "nbformat_minor": 2
}
